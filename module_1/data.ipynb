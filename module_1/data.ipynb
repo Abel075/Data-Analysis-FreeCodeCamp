{
 "cells": [
  {
   "cell_type": "code",
   "execution_count": null,
   "metadata": {},
   "outputs": [],
   "source": [
    "'''\n",
    "what is Data Analysis\n",
    "\n",
    "A process of inspecting, cleansing, transforming and modeling data\n",
    "with the goal of discovering useful information, informing conclusion\n",
    "and supporting decision-making\n",
    "'''"
   ]
  },
  {
   "cell_type": "code",
   "execution_count": null,
   "metadata": {},
   "outputs": [],
   "source": [
    "'''\n",
    "Tools:\n",
    "\n",
    "Auto-managed closed tools:\n",
    "Qlik, Closed Source\n",
    "Tableau, Expensive\n",
    "Looker, Limited\n",
    "Zoho Analytics, Easy to Learn\n",
    "\n",
    "Programming Languages:\n",
    "Python, Open Source\n",
    "R , Free or very cheap, Extremely powerful\n",
    "Julia, Steep learning curve\n",
    "\n",
    "'''"
   ]
  },
  {
   "cell_type": "code",
   "execution_count": null,
   "metadata": {},
   "outputs": [],
   "source": [
    "''' 1 Where is your data coming from?\n",
    "Extraction:\n",
    "SQL\n",
    "Scrapping\n",
    "File Formats: CSV, JSON, XML\n",
    "Consulting Apis\n",
    "Buying Data\n",
    "Distributed: Databases\n",
    "\n",
    "\n",
    "'''"
   ]
  },
  {
   "cell_type": "code",
   "execution_count": null,
   "metadata": {},
   "outputs": [],
   "source": [
    "''' 2 Data Cleaning\n",
    "Missing values and empty data\n",
    "Data imputation\n",
    "Incorrect types\n",
    "Incorrect or invalid values\n",
    "Outliers and non relevant data\n",
    "Statistical sanitization\n",
    "\n",
    "\n",
    "\n",
    "'''"
   ]
  },
  {
   "cell_type": "code",
   "execution_count": null,
   "metadata": {},
   "outputs": [],
   "source": [
    "''' 3 Data Wrangling\n",
    "Hierarchical Data\n",
    "Handling categorical data\n",
    "Reshaping and transforming structures\n",
    "Indexing data for quick access\n",
    "Merging, conbining and joining data\n",
    "\n",
    "\n",
    "\n",
    "'''"
   ]
  },
  {
   "cell_type": "code",
   "execution_count": null,
   "metadata": {},
   "outputs": [],
   "source": [
    "''' 4 Analysis\n",
    "Exploration\n",
    "Building statistical models\n",
    "Visualization and representations\n",
    "Correlation vs Causation analysis\n",
    "Hypothesis testing\n",
    "Statistical analysis\n",
    "Reporting\n",
    "\n",
    "\n",
    "\n",
    "'''"
   ]
  },
  {
   "cell_type": "code",
   "execution_count": null,
   "metadata": {},
   "outputs": [],
   "source": [
    "''' 5 Action\n",
    "Building Machine Learning Models\n",
    "Feature Engineerring\n",
    "Moving ML into production\n",
    "Building ETL pipelines\n",
    "Live dashboard and reporting\n",
    "Decision making and real-life tests\n",
    "\n",
    "\n",
    "'''"
   ]
  },
  {
   "cell_type": "code",
   "execution_count": null,
   "metadata": {},
   "outputs": [],
   "source": [
    "'''\n",
    "Libraries we use:\n",
    "\n",
    "Pandas\n",
    "Matplotlib\n",
    "Numpy\n",
    "Seaborn\n",
    "Statsmodels\n",
    "Scipy\n",
    "Scikit-learn\n",
    "\n",
    "'''"
   ]
  }
 ],
 "metadata": {
  "language_info": {
   "name": "python"
  },
  "orig_nbformat": 4
 },
 "nbformat": 4,
 "nbformat_minor": 2
}
