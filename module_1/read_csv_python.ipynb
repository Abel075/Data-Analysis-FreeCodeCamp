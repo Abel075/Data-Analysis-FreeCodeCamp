{
 "cells": [
  {
   "cell_type": "code",
   "execution_count": 7,
   "metadata": {},
   "outputs": [],
   "source": [
    "import pandas as pd"
   ]
  },
  {
   "cell_type": "code",
   "execution_count": 18,
   "metadata": {},
   "outputs": [
    {
     "name": "stdout",
     "output_type": "stream",
     "text": [
      "         Date  Day     Month  Year  Customer_Age    Age_Group Customer_Gender  \\\n",
      "0  2013-11-26   26  November  2013            19  Youth (<25)               M   \n",
      "1  2015-11-26   26  November  2015            19  Youth (<25)               M   \n",
      "\n",
      "  Country             State Product_Category Sub_Category  \\\n",
      "0  Canada  British Columbia      Accessories   Bike Racks   \n",
      "1  Canada  British Columbia      Accessories   Bike Racks   \n",
      "\n",
      "               Product  Order_Quantity  Unit_Cost  Unit_Price  Profit  Cost  \\\n",
      "0  Hitch Rack - 4-Bike               8         45         120     590   360   \n",
      "1  Hitch Rack - 4-Bike               8         45         120     590   360   \n",
      "\n",
      "   Revenue  \n",
      "0      950  \n",
      "1      950  \n"
     ]
    }
   ],
   "source": [
    "# Leer el archivo CSV\n",
    "# Ruta del archivo CSV\n",
    "archivo_csv = './sales_data.csv'\n",
    "\n",
    "# Leer el archivo CSV\n",
    "dataframe = pd.read_csv(archivo_csv)\n",
    "\n",
    "# Realizar operaciones con los datos del archivo CSV\n",
    "# Por ejemplo, imprimir las primeras 5 filas\n",
    "print(dataframe.head(2))\n"
   ]
  },
  {
   "cell_type": "code",
   "execution_count": 20,
   "metadata": {},
   "outputs": [
    {
     "data": {
      "text/plain": [
       "(113036, 18)"
      ]
     },
     "execution_count": 20,
     "metadata": {},
     "output_type": "execute_result"
    }
   ],
   "source": [
    "dataframe.shape"
   ]
  }
 ],
 "metadata": {
  "kernelspec": {
   "display_name": "Python 3",
   "language": "python",
   "name": "python3"
  },
  "language_info": {
   "codemirror_mode": {
    "name": "ipython",
    "version": 3
   },
   "file_extension": ".py",
   "mimetype": "text/x-python",
   "name": "python",
   "nbconvert_exporter": "python",
   "pygments_lexer": "ipython3",
   "version": "3.10.8"
  },
  "orig_nbformat": 4
 },
 "nbformat": 4,
 "nbformat_minor": 2
}
